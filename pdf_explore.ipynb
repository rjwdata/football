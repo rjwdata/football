{
 "cells": [
  {
   "cell_type": "code",
   "execution_count": null,
   "id": "e857a66f",
   "metadata": {},
   "outputs": [],
   "source": [
    "import PyPDF2"
   ]
  },
  {
   "cell_type": "code",
   "execution_count": 1,
   "id": "d1e46824",
   "metadata": {},
   "outputs": [],
   "source": [
    "import pymupdf\n",
    "from PIL import Image\n",
    "import os\n",
    "from IPython.display import display\n",
    "import pprint\n"
   ]
  },
  {
   "cell_type": "code",
   "execution_count": 23,
   "id": "444a31d4",
   "metadata": {},
   "outputs": [
    {
     "name": "stdout",
     "output_type": "stream",
     "text": [
      "Opened PDF with 7 pages\n"
     ]
    }
   ],
   "source": [
    "# === Settings ===\n",
    "pdf_path = \"data/playbook_test_3.pdf\"\n",
    "output_dir = \"hudl_drawings\"\n",
    "dpi = 200\n",
    "\n",
    "# Create output folder\n",
    "os.makedirs(output_dir, exist_ok=True)\n",
    "\n",
    "doc = pymupdf.open(pdf_path)\n",
    "print(f\"Opened PDF with {len(doc)} pages\")"
   ]
  },
  {
   "cell_type": "code",
   "execution_count": 31,
   "id": "63380f18",
   "metadata": {},
   "outputs": [],
   "source": [
    "for page_number in range(len(doc)):\n",
    "    page = doc[page_number]\n",
    "    # Your code to process each page goes here\n",
    "    if page_number != 0:\n",
    "        x1 = 31\n",
    "        x2 = 579\n",
    "        y1 = 55\n",
    "        y2 = 340\n",
    "        rect = pymupdf.Rect(x1, y1, x2, y2)\n",
    "        pix = page.get_pixmap(clip=rect)\n",
    "        filename = f\"{output_dir}/formation_{page_number}.png\"\n",
    "        pix.save(filename)\n"
   ]
  },
  {
   "cell_type": "code",
   "execution_count": 3,
   "id": "412342f9",
   "metadata": {},
   "outputs": [],
   "source": [
    "page = doc.load_page(0)"
   ]
  },
  {
   "cell_type": "code",
   "execution_count": 11,
   "id": "089aeada",
   "metadata": {},
   "outputs": [
    {
     "data": {
      "text/plain": [
       "<pymupdf.DisplayList at 0x112ab12b0>"
      ]
     },
     "execution_count": 11,
     "metadata": {},
     "output_type": "execute_result"
    }
   ],
   "source": [
    "page.get_displaylist()"
   ]
  },
  {
   "cell_type": "code",
   "execution_count": null,
   "id": "f887b175",
   "metadata": {},
   "outputs": [],
   "source": [
    "drawings = page.get_drawings()\n"
   ]
  },
  {
   "cell_type": "code",
   "execution_count": null,
   "id": "884d3e53",
   "metadata": {},
   "outputs": [],
   "source": [
    "x1 = 31\n",
    "x2 = 579\n",
    "y1 = 55\n",
    "y2 = 340\n",
    "page_number = 0  # Example: first page\n",
    "page = doc[page_number]\n",
    "rect = pymupdf.Rect(x1, y1, x2, y2) # Replace x1, y1, x2, y2 with your coordinates\n"
   ]
  },
  {
   "cell_type": "code",
   "execution_count": 16,
   "id": "dda43ad4",
   "metadata": {},
   "outputs": [],
   "source": [
    "pix = page.get_pixmap(clip=rect)\n"
   ]
  },
  {
   "cell_type": "code",
   "execution_count": 18,
   "id": "c1936c4f",
   "metadata": {},
   "outputs": [],
   "source": [
    "pix.save('test.png')"
   ]
  },
  {
   "cell_type": "code",
   "execution_count": 22,
   "id": "7edeba65",
   "metadata": {},
   "outputs": [
    {
     "data": {
      "text/plain": [
       "<bound method get_textpage_ocr of page 0 of data/playbook_test_2.pdf>"
      ]
     },
     "execution_count": 22,
     "metadata": {},
     "output_type": "execute_result"
    }
   ],
   "source": [
    "page.get_textpage_ocr"
   ]
  }
 ],
 "metadata": {
  "kernelspec": {
   "display_name": "football",
   "language": "python",
   "name": "python3"
  },
  "language_info": {
   "codemirror_mode": {
    "name": "ipython",
    "version": 3
   },
   "file_extension": ".py",
   "mimetype": "text/x-python",
   "name": "python",
   "nbconvert_exporter": "python",
   "pygments_lexer": "ipython3",
   "version": "3.13.1"
  }
 },
 "nbformat": 4,
 "nbformat_minor": 5
}
